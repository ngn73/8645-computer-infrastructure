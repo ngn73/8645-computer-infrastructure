{
 "cells": [
  {
   "cell_type": "markdown",
   "id": "a2ef5002",
   "metadata": {},
   "source": [
    "# 8645-Computer Infrastructure Assessment Problems\n",
    "***"
   ]
  },
  {
   "cell_type": "markdown",
   "id": "d1bf487d",
   "metadata": {},
   "source": [
    "Author: Niall Naughton  \n",
    "Email : G00473476@atu.ie  \n",
    "Module : 2526 - 8645-Computer Infrastructure  "
   ]
  },
  {
   "cell_type": "markdown",
   "id": "d10e0332",
   "metadata": {},
   "source": [
    "***\n",
    "## Problem 1: Data from yfinance"
   ]
  },
  {
   "cell_type": "markdown",
   "id": "7deb5b53",
   "metadata": {},
   "source": [
    "### Problem Requirements:\n",
    "Using the **yfinance** Python package, write a function called get_data() that downloads all hourly data for the previous five days for the five FAANG stocks:  \n",
    "  \n",
    "* Facebook (META)  \n",
    "* Apple (AAPL)  \n",
    "* Amazon (AMZN)  \n",
    "* Netflix (NFLX)  \n",
    "* Google (GOOG)  \n",
    "  \n",
    "The function should save the data into a folder called data in the root of your repository using a filename with the format YYYYMMDD-HHmmss.csv where YYYYMMDD is the four-digit year (e.g. 2025), followed by the two-digit month (e.g. 09 for September), followed by the two digit day, and HHmmss is hour, minutes, seconds. Create the data folder if you don't already have one."
   ]
  },
  {
   "cell_type": "markdown",
   "id": "ccaf9709",
   "metadata": {},
   "source": [
    "[Problem 1 NoteBook : Data from yfinance](problem_1.ipynb)   \n",
    "\n",
    "\n",
    "***"
   ]
  }
 ],
 "metadata": {
  "kernelspec": {
   "display_name": "base",
   "language": "python",
   "name": "python3"
  },
  "language_info": {
   "codemirror_mode": {
    "name": "ipython",
    "version": 3
   },
   "file_extension": ".py",
   "mimetype": "text/x-python",
   "name": "python",
   "nbconvert_exporter": "python",
   "pygments_lexer": "ipython3",
   "version": "3.12.3"
  }
 },
 "nbformat": 4,
 "nbformat_minor": 5
}
