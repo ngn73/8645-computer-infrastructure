{
 "cells": [
  {
   "cell_type": "markdown",
   "id": "a2ef5002",
   "metadata": {},
   "source": [
    "# 8645-Computer Infrastructure Assessment Problems\n",
    "***"
   ]
  },
  {
   "cell_type": "markdown",
   "id": "d1bf487d",
   "metadata": {},
   "source": [
    "Author: Niall Naughton  \n",
    "Email : G00473476@atu.ie  \n",
    "Module : 2526 - 8645-Computer Infrastructure  "
   ]
  },
  {
   "cell_type": "markdown",
   "id": "d10e0332",
   "metadata": {},
   "source": [
    "## Problem 1: Data from yfinance"
   ]
  },
  {
   "cell_type": "markdown",
   "id": "7deb5b53",
   "metadata": {},
   "source": [
    "Work-in-progress"
   ]
  }
 ],
 "metadata": {
  "language_info": {
   "name": "python"
  }
 },
 "nbformat": 4,
 "nbformat_minor": 5
}
