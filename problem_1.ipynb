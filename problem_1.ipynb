{
 "cells": [
  {
   "cell_type": "markdown",
   "id": "30e5ac56",
   "metadata": {},
   "source": [
    "# Problem 1: Data from yfinance"
   ]
  },
  {
   "cell_type": "markdown",
   "id": "fc6a830e",
   "metadata": {},
   "source": [
    "***\n",
    "### yFinance API Overview:\n",
    "The yFinance Python Library allows you to fetch market data from the **Yahoo Finance** website.   \n",
    "It is an open-source tool that uses Yahoo’s publicly available APIs, and is intended for research and educational purposes.  \n",
    "The benifits of the yFinance API include ...   \n",
    "1. Free and simple to use\n",
    "1. No authentication or API key required\n",
    "1. Pull historical stock prices\n",
    "1. Fetch company financials (income statement, balance sheet)\n",
    "1. Access dividends & stock splits\n",
    "1. Retrieve metadata like sector, industry, market cap  \n",
    "\n",
    "https://ranaroussi.github.io/yfinance/index.html  \n",
    "http://geeksforgeeks.org/python/how-to-use-yfinance-api-with-python/  \n",
    "https://www.youtube.com/watch?v=j0sBKAB75oc   \n",
    "\n"
   ]
  },
  {
   "cell_type": "markdown",
   "id": "763cd8a7",
   "metadata": {},
   "source": [
    "***\n",
    "### Install yFinance\n",
    "yfinance does NOT come pre-installed with Anaconda Python.   \n",
    "Anaconda includes many popular data science libraries (like NumPy, pandas, matplotlib)\n",
    "  \n",
    "  \n",
    "To Download, Extract, and Install the yFinance Package (via Anaconda) the following was typed into Terminal   \n",
    "\n",
    "`conda install -c conda-forge yfinance`   \n",
    "\n",
    "This takes a few minutes to complete the installation."
   ]
  },
  {
   "cell_type": "markdown",
   "id": "381dd99b",
   "metadata": {},
   "source": [
    "### yFinance Version Issue:  \n",
    "When running simple commands like   \n",
    "`yf.download(\"AAPL\", period=\"5d\")`  \n",
    "\n",
    "<font color=\"red\">I got the following error :</font>   \n",
    "\n",
    "<img src=\"images/yFinanceErr.png\" style=\"border: 4px solid red;\">   \n",
    "\n",
    "After Searching this \"Too many requests\" message with ChatGPT, I was advised to upgrade yFinance version with   \n",
    "`pip install --upgrade yfinance`  \n",
    "\n",
    "This upgraded package from 0.2.57 to 0.2.66.   \n",
    "With this package upgraded, below code extracted the data for NVidia (Close/High/Low/Open/Volume) for last 5 days\n",
    " "
   ]
  },
  {
   "cell_type": "code",
   "execution_count": 1,
   "id": "2ab91a03",
   "metadata": {},
   "outputs": [
    {
     "name": "stderr",
     "output_type": "stream",
     "text": [
      "C:\\Users\\Niall\\AppData\\Local\\Temp\\ipykernel_8260\\2478672369.py:2: FutureWarning: YF.download() has changed argument auto_adjust default to True\n",
      "  yf.download(\"NVDA\", period=\"5d\")\n",
      "[*********************100%***********************]  1 of 1 completed\n"
     ]
    },
    {
     "data": {
      "text/html": [
       "<div>\n",
       "<style scoped>\n",
       "    .dataframe tbody tr th:only-of-type {\n",
       "        vertical-align: middle;\n",
       "    }\n",
       "\n",
       "    .dataframe tbody tr th {\n",
       "        vertical-align: top;\n",
       "    }\n",
       "\n",
       "    .dataframe thead tr th {\n",
       "        text-align: left;\n",
       "    }\n",
       "\n",
       "    .dataframe thead tr:last-of-type th {\n",
       "        text-align: right;\n",
       "    }\n",
       "</style>\n",
       "<table border=\"1\" class=\"dataframe\">\n",
       "  <thead>\n",
       "    <tr>\n",
       "      <th>Price</th>\n",
       "      <th>Close</th>\n",
       "      <th>High</th>\n",
       "      <th>Low</th>\n",
       "      <th>Open</th>\n",
       "      <th>Volume</th>\n",
       "    </tr>\n",
       "    <tr>\n",
       "      <th>Ticker</th>\n",
       "      <th>NVDA</th>\n",
       "      <th>NVDA</th>\n",
       "      <th>NVDA</th>\n",
       "      <th>NVDA</th>\n",
       "      <th>NVDA</th>\n",
       "    </tr>\n",
       "    <tr>\n",
       "      <th>Date</th>\n",
       "      <th></th>\n",
       "      <th></th>\n",
       "      <th></th>\n",
       "      <th></th>\n",
       "      <th></th>\n",
       "    </tr>\n",
       "  </thead>\n",
       "  <tbody>\n",
       "    <tr>\n",
       "      <th>2025-10-13</th>\n",
       "      <td>188.320007</td>\n",
       "      <td>190.110001</td>\n",
       "      <td>185.960007</td>\n",
       "      <td>187.970001</td>\n",
       "      <td>153482800</td>\n",
       "    </tr>\n",
       "    <tr>\n",
       "      <th>2025-10-14</th>\n",
       "      <td>180.029999</td>\n",
       "      <td>184.800003</td>\n",
       "      <td>179.699997</td>\n",
       "      <td>184.770004</td>\n",
       "      <td>205641400</td>\n",
       "    </tr>\n",
       "    <tr>\n",
       "      <th>2025-10-15</th>\n",
       "      <td>179.830002</td>\n",
       "      <td>184.869995</td>\n",
       "      <td>177.289993</td>\n",
       "      <td>184.800003</td>\n",
       "      <td>214450500</td>\n",
       "    </tr>\n",
       "    <tr>\n",
       "      <th>2025-10-16</th>\n",
       "      <td>181.809998</td>\n",
       "      <td>183.279999</td>\n",
       "      <td>179.770004</td>\n",
       "      <td>182.229996</td>\n",
       "      <td>179723300</td>\n",
       "    </tr>\n",
       "    <tr>\n",
       "      <th>2025-10-17</th>\n",
       "      <td>183.220001</td>\n",
       "      <td>184.100006</td>\n",
       "      <td>179.750000</td>\n",
       "      <td>180.179993</td>\n",
       "      <td>172692400</td>\n",
       "    </tr>\n",
       "  </tbody>\n",
       "</table>\n",
       "</div>"
      ],
      "text/plain": [
       "Price            Close        High         Low        Open     Volume\n",
       "Ticker            NVDA        NVDA        NVDA        NVDA       NVDA\n",
       "Date                                                                 \n",
       "2025-10-13  188.320007  190.110001  185.960007  187.970001  153482800\n",
       "2025-10-14  180.029999  184.800003  179.699997  184.770004  205641400\n",
       "2025-10-15  179.830002  184.869995  177.289993  184.800003  214450500\n",
       "2025-10-16  181.809998  183.279999  179.770004  182.229996  179723300\n",
       "2025-10-17  183.220001  184.100006  179.750000  180.179993  172692400"
      ]
     },
     "execution_count": 1,
     "metadata": {},
     "output_type": "execute_result"
    }
   ],
   "source": [
    "import yfinance as yf\n",
    "yf.download(\"NVDA\", period=\"5d\")"
   ]
  },
  {
   "cell_type": "markdown",
   "id": "0a91987c",
   "metadata": {},
   "source": [
    "***\n",
    "### Download all hourly data for the previous five days   \n",
    "Lets look at how we can extract all hourly data for the previous five days   \n",
    "Using the **yFinance.download( )** function    \n",
    "https://ranaroussi.github.io/yfinance/reference/api/yfinance.download.html  \n",
    "\n",
    "Since it is a DataFrame object returned, we can also avail of the **DataFrame.to_csv()** function to feed data into a CSV File   \n",
    "https://pandas.pydata.org/docs/reference/api/pandas.DataFrame.to_csv.html  \n",
    "\n"
   ]
  },
  {
   "cell_type": "code",
   "execution_count": 10,
   "id": "68623f46",
   "metadata": {},
   "outputs": [
    {
     "name": "stderr",
     "output_type": "stream",
     "text": [
      "C:\\Users\\Niall\\AppData\\Local\\Temp\\ipykernel_8260\\2346998704.py:4: FutureWarning: YF.download() has changed argument auto_adjust default to True\n",
      "  df = yf.download(\"META, AAPL, AMZN, NFLX, GOOG\", period=\"5d\", interval=\"1h\", group_by=\"ticker\")\n",
      "[*********************100%***********************]  5 of 5 completed\n"
     ]
    }
   ],
   "source": [
    "from datetime import datetime\n",
    "\n",
    "# Download last 5 days of hourly data for Apple\n",
    "df = yf.download(\"META, AAPL, AMZN, NFLX, GOOG\", period=\"5d\", interval=\"1h\", group_by=\"ticker\")\n",
    "\n",
    "filename = \"./data/\" + datetime.now().strftime(\"%Y%m%d-%H%M%S\") + \".csv\"\n",
    "df.to_csv(filename)"
   ]
  },
  {
   "cell_type": "markdown",
   "id": "a0bcea42",
   "metadata": {},
   "source": [
    "### Final Function for this Task\n",
    "The yFinance download( ) funtion returns a Dataframe object.  \n",
    "This dataframe object contains ...   \n",
    "* Close/High/Low/Open/Volume Data points\n",
    "* for each hour for past 5 days\n",
    "* for 5 Stocks META, AAPL, AMZN, NFLX, GOOG\n",
    "\n",
    "This is quite a bit of data"
   ]
  },
  {
   "cell_type": "code",
   "execution_count": 12,
   "id": "97c98172",
   "metadata": {},
   "outputs": [
    {
     "name": "stderr",
     "output_type": "stream",
     "text": [
      "C:\\Users\\Niall\\AppData\\Local\\Temp\\ipykernel_8260\\3145201687.py:7: FutureWarning: YF.download() has changed argument auto_adjust default to True\n",
      "  df = yf.download(\"META, AAPL, AMZN, NFLX, GOOG\", period=\"5d\", interval=\"1h\", group_by=\"ticker\")\n",
      "[*********************100%***********************]  5 of 5 completed\n"
     ]
    }
   ],
   "source": [
    "import yfinance as yf\n",
    "import pandas as pd\n",
    "from datetime import datetime\n",
    "\n",
    "def getFAANGData() :\n",
    "    # Download last 5 days of hourly data for Meta, Apple, Amazon, Netflix, Google stocks\n",
    "    df = yf.download(\"META, AAPL, AMZN, NFLX, GOOG\", period=\"5d\", interval=\"1h\", group_by=\"ticker\")\n",
    "\n",
    "    ticker_data_filename = \"./data/\" + datetime.now().strftime(\"%Y%m%d-%H%M%S\") + \".csv\"\n",
    "    df.to_csv(ticker_data_filename)\n",
    "\n",
    "\n",
    "getFAANGData()"
   ]
  }
 ],
 "metadata": {
  "kernelspec": {
   "display_name": "base",
   "language": "python",
   "name": "python3"
  },
  "language_info": {
   "codemirror_mode": {
    "name": "ipython",
    "version": 3
   },
   "file_extension": ".py",
   "mimetype": "text/x-python",
   "name": "python",
   "nbconvert_exporter": "python",
   "pygments_lexer": "ipython3",
   "version": "3.12.3"
  }
 },
 "nbformat": 4,
 "nbformat_minor": 5
}
